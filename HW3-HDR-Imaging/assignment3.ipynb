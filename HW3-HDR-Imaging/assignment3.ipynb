{
 "cells": [
  {
   "cell_type": "code",
   "execution_count": null,
   "metadata": {},
   "outputs": [],
   "source": [
    "#this is the import part. Most of the packages you need to use for this hw is already written here. \n",
    "# If you want you can important other packages, however it is not necessary.\n",
    "import cv2\n",
    "import os\n",
    "import numpy as np\n",
    "import matplotlib.pyplot as plt\n",
    "from PIL import Image\n",
    "import glob\n",
    "from mpl_toolkits.axes_grid1 import make_axes_locatable\n",
    "import numpy as np"
   ]
  },
  {
   "cell_type": "code",
   "execution_count": null,
   "metadata": {
    "tags": []
   },
   "outputs": [],
   "source": [
    "# Note on autoreload: This allows you to make changes in python files and whenever you make a change\n",
    "# they will be automatically made available inside this jupyter notebook.\n",
    "# This allows you to interactively test software that you implement within your jupyter notebook\n",
    "%load_ext autoreload\n",
    "%autoreload 2"
   ]
  },
  {
   "cell_type": "markdown",
   "metadata": {},
   "source": [
    "# HW3: High Dynamic Range Imaging and Tone-mapping "
   ]
  },
  {
   "cell_type": "markdown",
   "metadata": {},
   "source": [
    "The goal of this homework is to explore the dynamic range properties of images captured by a single camera sensor. You will be provided with several datasets which consist of a sequence of images captured with the same camera and scene , but with different exposure settings. You will write a program to  use these images and their exposure times to find the camera response curve, recover the true irradiance image for the scene, and apply a tone-mapping algorithm to visualize this final image."
   ]
  },
  {
   "cell_type": "markdown",
   "metadata": {},
   "source": [
    "Read more on HDR-imaging at the following links:\n",
    "1. https://www.pauldebevec.com/Research/HDR/\n",
    "2. The original paper: https://www.pauldebevec.com/Research/HDR/debevec-siggraph97.pdf ( Please read through it at least once)"
   ]
  },
  {
   "cell_type": "markdown",
   "metadata": {},
   "source": [
    "# How to complete this assignment\n",
    "<span style=\"color:white\">*To complete the assignment, you will solve 5 problems, each of which consists of a coding task and a writing task that is documented in this notebook. To achieve a passing grade, you must succesfully complete all of the coding tasks AND you must write up your results in a well-documented report.* </span>   \n",
    "\n",
    "## <span style=\"color:red\">Coding Tasks: </span>\n",
    "You will implement functions in the following python files:\n",
    "- src/loaddata.py\n",
    "- src/recradmap.py\n",
    "- src/tonemapping.py"
   ]
  },
  {
   "cell_type": "code",
   "execution_count": null,
   "metadata": {},
   "outputs": [],
   "source": [
    "# Import the function that you'll need to implement"
   ]
  },
  {
   "cell_type": "code",
   "execution_count": null,
   "metadata": {},
   "outputs": [],
   "source": [
    "from src import loaddata \n",
    "from src import gsolve\n",
    "from src import tonemapping\n",
    "from src import recradmap"
   ]
  },
  {
   "cell_type": "markdown",
   "metadata": {},
   "source": [
    "# <span style=\"color:orange\">Problem 1. Load exposure bracketing sequences from the \"data\" folder </span>\n",
    "\n",
    "The \"data\" folder contains a set of exposures for a few different scenes, where filenames are given by the exposure time in seconds. Please notice: When you're using OpenCV to read the images, the loaded $m \\times n \\times 3$ matrix are in BGR instead of the RGB channel we're familiar with."
   ]
  },
  {
   "cell_type": "markdown",
   "metadata": {},
   "source": [
    "## <span style=\"color:red\">Coding Task: Implement load data</span>\n",
    "\n",
    "You will implement the following functions in function in *src/loaddata.py*. You will need to write code to load all of the images in a folder within the \"data\" folder of this repository. You will also need to write code to parse the exposure time, which is provided as the name of the files in the folder  \n",
    "- loaddata(）\n",
    "\n"
   ]
  },
  {
   "cell_type": "markdown",
   "metadata": {},
   "source": [
    "You should first load the \"memorial\" dataset from Paul Debevec's paper - use this dataset to start playing around with recovering response curves and completing Problems 2-5."
   ]
  },
  {
   "cell_type": "code",
   "execution_count": null,
   "metadata": {},
   "outputs": [],
   "source": [
    "imgFolder = 'data//memorial//'"
   ]
  },
  {
   "cell_type": "markdown",
   "metadata": {},
   "source": [
    "Load the raw images and exposure times from the \"data\" folder "
   ]
  },
  {
   "cell_type": "code",
   "execution_count": null,
   "metadata": {
    "tags": []
   },
   "outputs": [],
   "source": [
    "rawImg,exposure_time = loaddata.loadImage(imgFolder= imgFolder)\n",
    "log_exposure_time = np.log(exposure_time)\n",
    "print(rawImg.shape) # should be [ DimX DimY 3 Num_Images]\n",
    "print(rawImg.dtype) # raw images should be uint8\n",
    "print(exposure_time.shape) # should be [Num_Images,]"
   ]
  },
  {
   "cell_type": "markdown",
   "metadata": {},
   "source": [
    "crop image around boundaries to avoid any border effects from registration"
   ]
  },
  {
   "cell_type": "code",
   "execution_count": null,
   "metadata": {},
   "outputs": [],
   "source": [
    "rawImg = rawImg[25:-25,25:-25,:,:]"
   ]
  },
  {
   "cell_type": "markdown",
   "metadata": {},
   "source": [
    "Then plot the images in a grid"
   ]
  },
  {
   "cell_type": "code",
   "execution_count": null,
   "metadata": {
    "tags": []
   },
   "outputs": [],
   "source": [
    "idx = 1\n",
    "m_plots = 8\n",
    "n_plots = 4\n",
    "plt.figure(figsize=(12,32)) # If you load a different dataset please adapt the size so that it looks good\n",
    "\n",
    "plt.suptitle(\"Images \" + imgFolder,fontsize=20,y=1.005)\n",
    "for k in range(rawImg.shape[3]):\n",
    "    plt.subplot(m_plots,n_plots,idx);idx = idx + 1\n",
    "    plt.imshow(rawImg[:,:,:,k])\n",
    "    plt.title(exposure_time[k])\n",
    "plt.tight_layout()\n",
    "\n",
    "loaddata.save_fig_as_png(\"images_memorial\")"
   ]
  },
  {
   "cell_type": "markdown",
   "metadata": {},
   "source": [
    "# <span style=\"color:orange\">Problem 2. Write a program to find the camera response curves</span>\n",
    "\n",
    "\n",
    "The camera response function (CRF) gives us the connection between the scene radiance to the measured intensity values. The CRF if of great importance in some computer vision algorithms, including HDR algorithms. Here we estimate the inverse camera response function and use it for the HDR merge.\n",
    "\n",
    "We can model the brightness measured by the ith pixel during the jth exposure as:\n",
    "\n",
    "$$Z[i,j]=f(E[i]\\cdot B[j]) (1)$$\n",
    "    \n",
    "where $E[i]$ is the actual irradiance incident on the ith pixel, $B[j]$ is the exposure time of the jth captured image, and $f$ is the camera response function that maps exposure values to digital numbers (usually in the range 0-255). Defining $g(x)=ln(f^{-1}(x))$, we can write\n",
    "\n",
    "$$g(Z[i,j])=ln(E[i])+ln(B[j]) (2)$$\n",
    "\n",
    "You will use the method from Devevec et al.[1] to recover the response curve $g(Z)$ for values in the range[0,255]. You do not need to implement the gsolve function - it is provided for you in src/gsolve.py \n",
    "\n",
    "Once you solve for your inverse response curve, it should look something like below:\n",
    "\n",
    "<center><img src=\"https://compphotolab.github.io/cs331/HW4/HW4_files/image015.png\" style=\"float:middle\" /></center>\n",
    "\n",
    "IMPORTANT: DO NOT USE ALL THE PIXELS IN THE IMAGE TO SOLVE FOR THE RESPONSE CURVE! This will be extremely slow. Instead, you can choose a random subset of 100-1000 pixels to use as input to gsolve."
   ]
  },
  {
   "cell_type": "markdown",
   "metadata": {},
   "source": [
    "## <span style=\"color:red\">Coding Task: </span>\n",
    "\n",
    "You will implement the following functions in function in *src/load_data.py* and *src/gsolve.py* \n",
    "- create_measured_Z_values() - sample a subset of the Z values from the captured images dataset.\n",
    "- plotCurve() - plot the curve of the solved G function and the measured pixels\n",
    "- plotCurves() - plot the response curves for each color channel\n"
   ]
  },
  {
   "cell_type": "code",
   "execution_count": null,
   "metadata": {},
   "outputs": [],
   "source": [
    "numSample = 1000\n",
    "brightness = loaddata.create_measured_Z_values(rawImg, numSample=numSample, low=0, high=245)\n",
    "\n",
    "print(brightness.shape) # Should be (numSample, numImages, 3)"
   ]
  },
  {
   "cell_type": "code",
   "execution_count": null,
   "metadata": {},
   "outputs": [],
   "source": [
    "# Think about of the values in brigthness are reasonable\n",
    "\n",
    "# These statistics might help you:\n",
    "\n",
    "print(brightness.mean(axis=0))\n",
    "plt.plot(brightness.mean(axis=0))"
   ]
  },
  {
   "cell_type": "markdown",
   "metadata": {},
   "source": [
    "Run the gsolve function to recover the inverse response function $g(Z)$ for each color channel"
   ]
  },
  {
   "cell_type": "code",
   "execution_count": null,
   "metadata": {
    "tags": []
   },
   "outputs": [],
   "source": [
    "λ = 1000\n",
    "\n",
    "solveG = np.zeros((256,3))\n",
    "log_exposure = np.zeros((numSample,3))\n",
    "\n",
    "# solve g (inverse of f function) and plot the relationship between radiance and pixel value.\n",
    "for k in range(3):\n",
    "    solveG[:,k], log_exposure[:,k] = gsolve.gsolve(brightness[:,:,k], log_exposure_time, λ)"
   ]
  },
  {
   "cell_type": "code",
   "execution_count": null,
   "metadata": {},
   "outputs": [],
   "source": [
    "print(solveG.shape) # should be (256,3)\n",
    "print(log_exposure.shape) # should be (numSample, 3)"
   ]
  },
  {
   "cell_type": "markdown",
   "metadata": {},
   "source": [
    "plot the fitted inverse response curves against the data used for the fitting procedure"
   ]
  },
  {
   "cell_type": "code",
   "execution_count": null,
   "metadata": {},
   "outputs": [],
   "source": [
    "# Let's plot it for one channel first, after you can use this for the subplot for all channels:\n",
    "k = 0\n",
    "gsolve.plotCurve(solveG[:,k],log_exposure[:,k],log_exposure_time,brightness[:,:,k],'Red Channel')"
   ]
  },
  {
   "cell_type": "code",
   "execution_count": null,
   "metadata": {
    "tags": []
   },
   "outputs": [],
   "source": [
    "plt.figure(figsize=(20,5))\n",
    "gsolve.plotCurves(solveG, log_exposure, log_exposure_time, brightness,λ)\n",
    "plt.tight_layout()\n",
    "loaddata.save_fig_as_png(\"response_curve_lamba_100\")"
   ]
  },
  {
   "cell_type": "markdown",
   "metadata": {},
   "source": [
    "# <span style=\"color:orange\">Problem 3. Recover the HDR radiance map of the scene</span>"
   ]
  },
  {
   "cell_type": "markdown",
   "metadata": {},
   "source": [
    "Once you have recovered the camera response curve you are now ready to recover a radiance image from your sequence of exposures. You can recover the radiance map using the following equation\n",
    "$$ln(E[i])=\\frac{1}{P}\\sum_{j=1}^{P}(g(Z[i,j])-ln(B[j]))$$\n",
    "Where $P$ is the number of images that you captured in part 1). \n",
    "\n",
    "Your result should look something like this\n",
    "<br>\n",
    "\n",
    "<center><img src=\"https://compphotolab.github.io/cs331/HW4/HW4_files/image018.png\" style=\"float:middle\" /></center>"
   ]
  },
  {
   "cell_type": "markdown",
   "metadata": {},
   "source": [
    "## <span style=\"color:red\">Coding Task: </span>\n",
    "\n",
    "You will calculate the radiance map using the equation above, then plot the output of the function, which is the recovered radiance map of the scene. You will implement the following functions in function in *src/recradman.py* \n",
    "- get_log_radiance_map() - use the recovered response curves to recover the radiance map from the captured image dataset.\n",
    "- plotRadMap() - plot images of the recovered radiance map for each color channel\n"
   ]
  },
  {
   "cell_type": "code",
   "execution_count": null,
   "metadata": {},
   "outputs": [],
   "source": [
    "# Hint:\n",
    "# The raw images have intensities between 0,255.\n",
    "# Now what is the gsolve function? It's an array of length 256\n",
    "# So instead of looping through each pixel you can just plug the images into the gsolve array\n",
    "# And you immediately get out what you need ?! \n",
    "# Think about this first before you write a very inefficient method !!!\n",
    "# Try to avoid for-loops that iterate over the pixels at any cost. For-loops to iterate through the channels and number of images are ok!\n",
    "\n",
    "log_radiance = recradmap.get_log_radiance_map(rawImg, log_exposure_time, solveG)"
   ]
  },
  {
   "cell_type": "code",
   "execution_count": null,
   "metadata": {},
   "outputs": [],
   "source": [
    "# Now write a function to visualize the radiance map. For convenience of the reader plase plot it into one image\n",
    "# Note: You can use the helper for function from the Noise homework to deal with issues of a too large scalebar\n",
    "# Note: Use grayscale images over color images"
   ]
  },
  {
   "cell_type": "code",
   "execution_count": null,
   "metadata": {},
   "outputs": [],
   "source": [
    "plt.figure(figsize=(15,4))\n",
    "recradmap.plotRadMap(log_radiance)\n",
    "\n",
    "loaddata.save_fig_as_png(\"HDR_radiance_map\")"
   ]
  },
  {
   "cell_type": "markdown",
   "metadata": {},
   "source": [
    "# <span style=\"color:orange\">Problem 4. Implement a tone mapping algorithm to display your HDR image</span>\n",
    "\n",
    "The radiance map you recovered in Problem (3) likely has a much larger dynamic range than any electronic display device you will use to view the image. You now need to apply a simple global tone-mapping algorithm to your radiance image so that you can visualize the scene in a perceptually compelling way. You will implement two different tonemapping algorithms, gamma correction, and a perceptually inspired tonemapping algorithms from Reinhard et al. You can read more on the Reinhard Tone Mapping Operator here:\n",
    "https://expf.wordpress.com/2010/05/04/reinhards_tone_mapping_operator/  "
   ]
  },
  {
   "cell_type": "markdown",
   "metadata": {},
   "source": [
    "### 4.1 Scale Brightness\n",
    "In this section, you need to complete the function scaleBrightness that normalizes the radiance map to values between 0 and 1 using the equation below:\n",
    "\n",
    "\n",
    "$$E_{norm}[i]=\\frac{E[i]-E_{min}}{E_{max}-E_{min}} (4)$$\n",
    "\n",
    "Note that you will need to normalize each color channel independently, so for each of the R,G,B channels of your recovered radiance map $E[i] = {R[i], G[i], B[i]}$ you will compute\n",
    "\n",
    "$$R_{norm}[i]=\\frac{R[i]-R_{min}}{R_{max}-R_{min}} $$\n",
    "$$G_{norm}[i]=\\frac{G[i]-G_{min}}{R_{max}-G_{min}} $$\n",
    "$$B_{norm}[i]=\\frac{B[i]-B_{min}}{R_{max}-B_{min}} $$\n",
    "\n",
    "Normalizing each of your color channels independently will help ensure that errors in the the camera response curves don't change the color balance of your tonemapped radiance maps.  "
   ]
  },
  {
   "cell_type": "markdown",
   "metadata": {},
   "source": [
    "## <span style=\"color:red\">Coding Task: </span>\n",
    "\n",
    "Implement the following functions in function in *src/tonemapping.py* \n",
    "- scaleBrightness()\n"
   ]
  },
  {
   "cell_type": "code",
   "execution_count": null,
   "metadata": {},
   "outputs": [],
   "source": [
    "# you need to first convert from log_radiance to radiance!!!\n",
    "radiance = np.exp(log_radiance)\n",
    "radiance_normalized = tonemapping.scaleBrightness(radiance)\n",
    "\n",
    "print(radiance_normalized.shape)  # Should be (numX, numY, 3)\n",
    "print(radiance_normalized.dtype) # Should be float64"
   ]
  },
  {
   "cell_type": "markdown",
   "metadata": {},
   "source": [
    "generate some figures of normalized color channels to include in your writeup"
   ]
  },
  {
   "cell_type": "code",
   "execution_count": null,
   "metadata": {},
   "outputs": [],
   "source": [
    "plt.figure(figsize=(15,8))\n",
    "\n",
    "def plot_3_channels(radiance_normalized,title=\"\"):\n",
    "    colors = [\"Red\",\"Green\",\"Blue\"]\n",
    "\n",
    "    plt.suptitle(title,fontsize=20)\n",
    "    for k in range(3):\n",
    "        plt.subplot(1,3,k+1)\n",
    "        recradmap.plot_with_colorbar(radiance_normalized[:,:,k],colors[k])\n",
    "    plt.tight_layout()\n",
    "    \n",
    "plot_3_channels(radiance_normalized,\"Normalized Brigthness\")\n",
    "\n",
    "loaddata.save_fig_as_png(\"normalized_brigthness\")"
   ]
  },
  {
   "cell_type": "markdown",
   "metadata": {},
   "source": [
    "### 4.2 Apply gamma adjustment\n",
    "\n",
    "Next apply a gamma curve to the radiance map. To do this simply raise the irradiance of each pixel to the with an exponent of $\\gamma$. \n",
    "\n",
    "$E_{gamma}[i]=E[i]_{norm}^{\\gamma}(5)$ \n",
    "\n",
    "Play with different values for $\\gamma$ and report your results. Can you find a value that gives you visually pleasing results?"
   ]
  },
  {
   "cell_type": "markdown",
   "metadata": {},
   "source": [
    "## <span style=\"color:red\">Coding Task: </span>\n",
    "\n",
    "Implement the following functions in function in *src/tonemapping.py* \n",
    "- apply_gamma_curve()\n"
   ]
  },
  {
   "cell_type": "code",
   "execution_count": null,
   "metadata": {},
   "outputs": [],
   "source": [
    "radiance_gamma = tonemapping.apply_gamma_curve(radiance_normalized, gamma= 0.35)\n",
    "\n",
    "plt.figure(figsize=(15,8))\n",
    "plot_3_channels(radiance_gamma,\"Normalized Brigthness with Gamma Correction\");\n",
    "print(radiance_gamma.shape) # Should be (numX, numY, 3)\n",
    "print(radiance_gamma.dtype) # Should be float64\n",
    "\n",
    "loaddata.save_fig_as_png(\"normalized_brigthness_gamma_correction\")\n",
    "\n",
    "plt.figure(figsize=(20,10));\n",
    "plt.imshow(radiance_gamma);\n",
    "\n",
    "loaddata.save_fig_as_png(\"radiance_gamma\")"
   ]
  },
  {
   "cell_type": "markdown",
   "metadata": {},
   "source": [
    "### 4.3 Implement Reinhard Tone Mapping"
   ]
  },
  {
   "cell_type": "markdown",
   "metadata": {},
   "source": [
    "Lastly, you will implement the global tone mapping operator from Reinhard '02 [2]. First you will need to convert the radiance image from color to grayscale. Note that you will first need to normalize the image using Eq. (4). \n",
    "\n",
    "Read more on tone mapping here:\n",
    "1. https://www.cl.cam.ac.uk/~rkm38/pdfs/tone_mapping.pdf\n",
    "2. PDF to original paper: http://www.cmap.polytechnique.fr/~peyre/cours/x2005signal/hdr_photographic.pdf ( Read through it at least once to get an idea)"
   ]
  },
  {
   "cell_type": "markdown",
   "metadata": {},
   "source": [
    "$$L[i]=rgb2gray(E_{norm}[i])(6)$$\n",
    "\n",
    "Then use the following equations to implement the tone mapping. We first calculate the log average exposure\n",
    "\n",
    "$$L_{avg}=exp(\\frac{1}{N}\\sum_{i}ln(L[i]))(7)$$\n",
    "\n",
    "Where the summation is over all of the pixels in the luminance image. Next scale the image according to:\n",
    "\n",
    "$$T[i]=\\frac{a}{L_{avg}}L[i](8)$$\n",
    "\n",
    "Where $a$ is a parameter (the 'key') that can be tuned for best visual appearance. Next apply the Reinhard tone-mapping operator:\n",
    "\n",
    "$$L_{tone}[i]=\\frac{T[i] \\cdot (1 + \\frac{T[i]}{T_{max}^{2}})}{1 + T[i]}(9)$$\n",
    "\n",
    "Note that, like the gamma mapping, the Reinhard tonemapping operator also maps radiance values in the range $[0,1]$. Finally, define the scaling operator\n",
    "\n",
    "$$M[i]=\\frac{L_{tone}[i]}{L[i]}(10)$$\n",
    "\n",
    "and use this to scale each of the color channels in the radiance image. If the red, green, and blue channels of the radiance image are R, G, and B, form a new RGB image according to:\n",
    "\n",
    "$R_{HDR}[i]=M[i]\\cdot R_{norm}[i]$\n",
    "\n",
    "$G_{HDR}[i]=M[i]\\cdot G_{norm}[i]$ \n",
    "\n",
    "$B_{HDR}[i]=M[i]\\cdot B_{norm}[i]$ \n",
    "\n",
    "In which the R, G, B represents the normalized RGB channels of the radiance map from Equation (4)."
   ]
  },
  {
   "cell_type": "markdown",
   "metadata": {},
   "source": [
    "## <span style=\"color:red\">Coding Task: </span>\n",
    "\n",
    "Implement the following functions in function in *src/tonemapping.py*. Note that before you visualize your images, you need to proces them with the clip_hdr function provided in *src/tonemapping.py*, which ensures that the resulting tonemap displays correctly using plt.imshow().\n",
    "- convert_rgb2gray() - convert rgb radiance map to luminance/grayscale only\n",
    "- tonemapping() - compute the scaling function to multiply by each color channel"
   ]
  },
  {
   "cell_type": "code",
   "execution_count": null,
   "metadata": {},
   "outputs": [],
   "source": [
    "# first compute the scaling function M from the normalized radiance map and then visualize the results\n",
    "M = tonemapping.tone_mapping(radiance_normalized,a=.3)\n",
    "print(M.shape) # Should be (numX, numY)\n",
    "\n",
    "\n",
    "loaddata.save_fig_as_png(\"tonemapping_image\")\n",
    "\n",
    "plt.imshow(M)\n",
    "plt.colorbar()\n",
    "\n",
    "# compute the tonemapped image by multiplying each color channel by the scaling function M\n",
    "# Note that M.shape = (numX, numY) and radiance_normalized.shape = (numX, numY, 3)\n",
    "# M[:,:,None] is shorthand for multiplying the (numX, numY) values by each of the 3 \n",
    "# color channels in radiance_normalized  \n",
    "hdr =  radiance_normalized * M[:,:,None];\n",
    "\n",
    "# you need to clip the tonemapped result to ensure that it displays correctly with plt.imshow()\n",
    "hdr,_,_ = tonemapping.clip_hdr(hdr);\n",
    "\n",
    "plt.figure(figsize=(15,8))\n",
    "plot_3_channels(hdr,\"Normalized Brigthness with Gamma Correction\");\n",
    "\n",
    "loaddata.save_fig_as_png(\"channels_after_tonemapping_correctin\")\n",
    "\n",
    "\n",
    "plt.figure(figsize=(10,10))\n",
    "plt.imshow(hdr);\n",
    "plt.title(\"HDR image\")\n",
    "\n",
    "loaddata.save_fig_as_png(\"hdr_image\")\n"
   ]
  },
  {
   "cell_type": "markdown",
   "metadata": {},
   "source": [
    "# 5. Test your tonemapping algorithm on a few different datasets \n",
    "\n",
    "Now that you have implemented your data loading, response curve recovery, and tonemapping algorithm, you will package it into a single function and compare results across a few different datasets"
   ]
  },
  {
   "cell_type": "markdown",
   "metadata": {},
   "source": [
    "## <span style=\"color:red\">Coding Task: </span>\n",
    "\n",
    "Implement the following functions in function in *src/tonemapping.py*. You will just be copying your results from Problems (2)-(4) above into a single function so it is convenient to run on a number of datasets.\n",
    "- compute_hdr_image() - compute gamma and tonemapped radiance maps from a loaded image dataset\n"
   ]
  },
  {
   "cell_type": "code",
   "execution_count": null,
   "metadata": {},
   "outputs": [],
   "source": [
    "folders = ['desktop02', 'scene', 'memorial', 'digimax_gate']"
   ]
  },
  {
   "cell_type": "markdown",
   "metadata": {},
   "source": [
    "### First implement the compute_hdr_image on one image-set. After we will loop through all images"
   ]
  },
  {
   "cell_type": "code",
   "execution_count": null,
   "metadata": {},
   "outputs": [],
   "source": [
    "imgs,expTime = loaddata.loadImage(\"data//\"+folders[0]+\"//\")\n",
    "imgs = imgs[25:-25,25:-25,:,:]\n",
    "\n",
    "hdr,radiance_gamma = tonemapping.compute_hdr_image(imgs,expTime, lam = 1000, gamma = 0.3, a = 0.3)"
   ]
  },
  {
   "cell_type": "markdown",
   "metadata": {},
   "source": [
    "### Now run the compute_hdr_image on all the images in the folder array"
   ]
  },
  {
   "cell_type": "code",
   "execution_count": null,
   "metadata": {},
   "outputs": [],
   "source": [
    "for folder in folders:\n",
    "    imgs,expTime = loaddata.loadImage(\"data//\" + folder + \"//\")\n",
    "    imgs = imgs[25:-25,25:-25,:,:]\n",
    "\n",
    "    hdr,radiance_gamma = tonemapping.compute_hdr_image(imgs,expTime, lam = 1000, gamma = 0.3, a = 0.3)\n",
    "    plt.figure(figsize=(10,10))\n",
    "    plt.imshow(hdr)\n",
    "    loaddata.save_fig_as_png(\"hdr_\"+folder)\n",
    "\n",
    "    plt.figure(figsize=(10,10))\n",
    "    plt.imshow(radiance_gamma)\n",
    "    \n",
    "    loaddata.save_fig_as_png(\"radiance_map\"+folder)\n"
   ]
  },
  {
   "cell_type": "markdown",
   "metadata": {},
   "source": [
    "---------"
   ]
  }
 ],
 "metadata": {
  "kernelspec": {
   "display_name": "Python 3",
   "language": "python",
   "name": "python3"
  },
  "language_info": {
   "codemirror_mode": {
    "name": "ipython",
    "version": 3
   },
   "file_extension": ".py",
   "mimetype": "text/x-python",
   "name": "python",
   "nbconvert_exporter": "python",
   "pygments_lexer": "ipython3",
   "version": "3.9.5"
  }
 },
 "nbformat": 4,
 "nbformat_minor": 4
}

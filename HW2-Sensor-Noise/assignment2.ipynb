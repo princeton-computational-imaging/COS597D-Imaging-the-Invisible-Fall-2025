{
 "cells": [
  {
   "cell_type": "markdown",
   "metadata": {},
   "source": [
    "# HW 2:  Sensor Characteristics Development\n"
   ]
  },
  {
   "cell_type": "markdown",
   "metadata": {},
   "source": [
    "In this assignment, we will explore how to characterize the noise properties of images captured with an individual camera sensor. We will use a noise model that incorporates both signal dependent, \"photon noise\" as well as signal independent \"read/ADC noise.\" The overall noise model we will use is depicted in the image below:\n",
    "\n",
    "<center><img src=\"http://users.eecs.northwestern.edu/~ollie/eecs395/HW2/HW2_files/image002.png\" style=\"float:middle\" /></center>\n",
    "\n",
    "In this assignment, you will develop a noise model for a camera following this figure, focusing on 1) photon noise, 2) read noise, and 3) ADC noise. You will be provided a dataset of 200 different images captured with a camera, taken under different camera sensitivity settings. Each of the 200 images are captured under identical settings (e.g., ISO settings) for two scenes. The first scene is simply a completely dark scene (i.e. the lens cap is left on), which allows us to characterize the noise in low light. For the second scene, the camera is simply pointed at a grayscale intensity pattern that has been printed onto a paper - visualized in the image below: \n",
    "\n",
    "<center><img src=\"http://users.eecs.northwestern.edu/~ollie/eecs395/HW2/HW2_files/image012.png\" style=\"float:middle;width:400px;height:300px;\"></center>\n",
    "\n",
    "You should have all the background material you need to complete this assignment from the lecture slides and the instructions in this notebook. In addition, you may also find these links on sensor noise helpful:\n",
    "\n",
    "- Everything on noise: https://www.allaboutcircuits.com/technical-articles/photon-noise-read-noise-and-reset-noise-in-ccd-image-sensors/\n",
    "- Read more on ADC Input noise: https://www.analog.com/en/analog-dialogue/articles/adc-input-noise.html#\n",
    "- Read more on Read Noise: https://www.atik-cameras.com/news/read-noise-ccd-cameras/"
   ]
  },
  {
   "cell_type": "markdown",
   "metadata": {},
   "source": [
    "# How to complete this assignment\n",
    "<span style=\"color:white\">*To complete the assignment, you will solve 5 problems, each of which consists of a coding task and a writing task that is documented in this notebook. To achieve a passing grade, you must succesfully complete all of the coding tasks AND you must write up your results in a well-documented report.* </span>   \n",
    "\n",
    "## <span style=\"color:red\">Coding Tasks: </span>\n",
    "You will implement functions in the following python files:\n",
    "- src/load_data.py\n",
    "- src/plot.py\n",
    "- src/image_edit.py\n",
    "- src/histogram.py"
   ]
  },
  {
   "cell_type": "markdown",
   "metadata": {},
   "source": [
    "\n",
    "## <span style=\"color:indigo\">Note:</span>\n",
    "- You can compare your output with the expected output\n",
    "- The expected output is in the folder example_figures and is given the same file name corresponding to each required image\n",
    "-----------"
   ]
  },
  {
   "cell_type": "markdown",
   "metadata": {},
   "source": [
    "# Import of Packages\n",
    "Use the autoreload option so that changes in your python files are automically included in the Jupyter Environment."
   ]
  },
  {
   "cell_type": "code",
   "execution_count": null,
   "metadata": {},
   "outputs": [],
   "source": [
    "%load_ext autoreload\n",
    "%autoreload 2\n",
    "\n",
    "import matplotlib.pyplot as plt\n",
    "from matplotlib.pyplot import imshow\n",
    "from matplotlib import pyplot\n",
    "plt.style.use('seaborn-v0_8-white') # This is an awesome style for visualization # This is an awesome style for visualization\n",
    "import numpy as np\n",
    "import os\n",
    "from PIL import Image"
   ]
  },
  {
   "cell_type": "markdown",
   "metadata": {},
   "source": [
    "# IMPORT: Functions that you'll have to implement"
   ]
  },
  {
   "cell_type": "code",
   "execution_count": null,
   "metadata": {},
   "outputs": [],
   "source": [
    "import src.load_data as ld\n",
    "import src.plot as plots\n",
    "import src.image_editor as ie\n",
    "import src.camera_noise_model as cam\n",
    "import src.metrics as metrics"
   ]
  },
  {
   "cell_type": "markdown",
   "metadata": {},
   "source": [
    "# Warning: \n",
    "\n",
    "We're going to use matplotlib to plot a lot, and we're going to want to use colormap/colorbars to next to our plots, but they get buggy, and aren't usually the correct size to the graph. Use this following solution to fix it!\n",
    "\n",
    "https://stackoverflow.com/questions/18195758/set-matplotlib-colorbar-size-to-match-graph\n"
   ]
  },
  {
   "cell_type": "code",
   "execution_count": null,
   "metadata": {},
   "outputs": [],
   "source": [
    "import matplotlib.pyplot as plt\n",
    "from mpl_toolkits.axes_grid1 import make_axes_locatable\n",
    "import numpy as np\n",
    "\n",
    "image_num = 0; # which captured image in the dataset to display"
   ]
  },
  {
   "cell_type": "code",
   "execution_count": null,
   "metadata": {},
   "outputs": [],
   "source": [
    "# We have implented a function called \"plot_with_colorbar\"\n",
    "#\n",
    "\n",
    "# You might need to adapt this method to your needs! This is only meant as a starter code!\n",
    "\n",
    "\n",
    "test = np.random.randn(100,100)\n",
    "\n",
    "\n",
    "plt.figure(figsize=(10,5))\n",
    "plt.suptitle(\"An example where the colorbar is off\")\n",
    "\n",
    "plt.subplot(121)\n",
    "plt.imshow(test)\n",
    "plt.colorbar()\n",
    "\n",
    "plt.subplot(122)\n",
    "plt.imshow(test)\n",
    "plt.colorbar()\n",
    "\n",
    "\n",
    "plt.figure()\n",
    "plt.figure(figsize=(10,5))\n",
    "plt.suptitle(\"An example where the colorbar is correct\")\n",
    "\n",
    "plt.subplot(121)\n",
    "plots.plot_with_colorbar(test)\n",
    "\n",
    "plt.subplot(122)\n",
    "plots.plot_with_colorbar(test)\n",
    "\n",
    "plt.tight_layout() # This is a great command to make your plots look nice"
   ]
  },
  {
   "cell_type": "code",
   "execution_count": null,
   "metadata": {},
   "outputs": [],
   "source": [
    "# You can use this function to save\n",
    "\n",
    "savedir = 'output'\n",
    "def save_fig_as_png(figtitle):\n",
    "    '''\n",
    "    Saves the current figure into the output folder\n",
    "    (which you might have to create and commit)\n",
    "    The figtitle should not contain the \".png\".\n",
    "    This helper function should be easy to use and should help you create the figures \n",
    "    needed for the report\n",
    "    \n",
    "    The directory where images are saved (savedir) should be included in this function.\n",
    "    \n",
    "    Hint: The plt.gcf() might come in handy\n",
    "    Hint 2: read about this to crop white borders\n",
    "    https://stackoverflow.com/questions/8218608/scipy-savefig-without-frames-axes-only-content\n",
    "    \n",
    "    '''\n",
    "    fig = plt.gcf()\n",
    "    path = savedir + '//' + figtitle + str('.png')\n",
    "    print(path)\n",
    "\n",
    "    fig.savefig(path,bbox_inches='tight', pad_inches=0)"
   ]
  },
  {
   "cell_type": "markdown",
   "metadata": {},
   "source": [
    "# <span style=\"color:orange\">*Problem 1*: Loading data</span>\n",
    "\n",
    "You want to make sure that you load your data in properly, and that you're storing your images.\n",
    "\n",
    "The following cells will guide you in the process!"
   ]
  },
  {
   "cell_type": "markdown",
   "metadata": {},
   "source": [
    "## <span style=\"color:red\">Coding Task: </span>\n",
    "\n",
    "You will implement the following functions in function in *src/load_data.py*\n",
    "- load_data()"
   ]
  },
  {
   "cell_type": "markdown",
   "metadata": {},
   "source": [
    "Now let's test your implementation of loading data. First just make sure that you can load a single folder of data"
   ]
  },
  {
   "cell_type": "code",
   "execution_count": null,
   "metadata": {},
   "outputs": [],
   "source": [
    "# Test that one folder can be read succesfully\n",
    "test = ld.load_data('dark0')\n",
    "print(test.shape) # should be (600, 800, 200)\n",
    "print(test.dtype) # should be uint8"
   ]
  },
  {
   "cell_type": "markdown",
   "metadata": {},
   "source": [
    "Once we can load a single folder its time to load the entire dataset"
   ]
  },
  {
   "cell_type": "code",
   "execution_count": null,
   "metadata": {},
   "outputs": [],
   "source": [
    "dark, imgs, sensitivity = ld.load_dataset()"
   ]
  },
  {
   "cell_type": "markdown",
   "metadata": {},
   "source": [
    "Lets make sure the dimensions and datatype are correct"
   ]
  },
  {
   "cell_type": "code",
   "execution_count": null,
   "metadata": {
    "scrolled": true
   },
   "outputs": [],
   "source": [
    "print(dark.shape) # (600, 800, 200, 6)\n",
    "print(imgs.shape) # (600, 800, 200, 6)\n",
    "print(dark.dtype) # Should be uint8\n",
    "print(imgs.dtype) # Shoule be uint8"
   ]
  },
  {
   "cell_type": "markdown",
   "metadata": {},
   "source": [
    "# <span style=\"color:red\">Coding Task: Explore the dataset </span>\n",
    "\n",
    "First we will explore the dataset a bit. In particular we will look at the following\n",
    "1. Histograms of our images\n",
    "2. Raw images of our data\n",
    "3. Dealing with the bayer patter in our raw images"
   ]
  },
  {
   "cell_type": "markdown",
   "metadata": {},
   "source": [
    "# Lets look at a few histograms of the images we captured"
   ]
  },
  {
   "cell_type": "code",
   "execution_count": null,
   "metadata": {},
   "outputs": [],
   "source": [
    "# This is an example code of how you can display a histogram\n",
    "plt.figure()\n",
    "plt.grid()\n",
    "_ = plt.hist(imgs[200:500:2,200:400:2,0,5].ravel(), bins=100, alpha=0.5, label='x',range=(0,254))\n",
    "plt.xlabel(\"Intensity\")\n",
    "plt.ylabel(\"Count\")"
   ]
  },
  {
   "cell_type": "code",
   "execution_count": null,
   "metadata": {},
   "outputs": [],
   "source": [
    "# Now let's display the histograms for an image with different sensitivity values\n",
    "plt.figure(figsize=(10,5))\n",
    "\n",
    "plots.plot_input_histogram(imgs[:,:,0,:],sensitivity)\n",
    "\n",
    "plt.tight_layout()\n",
    "\n",
    "\n",
    "save_fig_as_png(\"Histogram_input\")"
   ]
  },
  {
   "cell_type": "markdown",
   "metadata": {},
   "source": [
    "# <span style=\"color:red\">Coding Task: Visualize your input images </span>\n",
    "\n",
    "The dataset consists of 200 images captured for different camera sensitivity (ISO) settings. Let's visualize a single image, each taken at different sensitivity setting."
   ]
  },
  {
   "cell_type": "markdown",
   "metadata": {},
   "source": [
    "Make sure that the scale for each image is always going from 0 to 255. By that you ensure that you can see those images have actually different intensities"
   ]
  },
  {
   "cell_type": "code",
   "execution_count": null,
   "metadata": {},
   "outputs": [],
   "source": [
    "plt.figure(figsize=(15,18))\n",
    "plots.plot_input_images(imgs[:,:,0,:],sensitivity)\n",
    "plt.tight_layout()\n",
    "\n",
    "\n",
    "save_fig_as_png(\"Example_input_images\")"
   ]
  },
  {
   "cell_type": "markdown",
   "metadata": {},
   "source": [
    "# <span style=\"color:Orange\">Coding Task: Explore the raw Images </span>"
   ]
  },
  {
   "cell_type": "markdown",
   "metadata": {},
   "source": [
    "Those images will look a bit strange when rendered out, let's try to inspect whats going on by cropping the images and taking a closer look at what is happening on the pixel level"
   ]
  },
  {
   "cell_type": "code",
   "execution_count": null,
   "metadata": {},
   "outputs": [],
   "source": [
    "image_num = 0;\n",
    "sensitivity_ind = 0;\n",
    "plots.plot_with_colorbar(imgs[500:540,500:540,image_num,sensitivity_ind])\n",
    "\n",
    "save_fig_as_png(\"bayer_pattern_example\")"
   ]
  },
  {
   "cell_type": "markdown",
   "metadata": {},
   "source": [
    "# BAYER PATTERN"
   ]
  },
  {
   "attachments": {
    "image.png": {
     "image/png": "[encoded data removed]"
    }
   },
   "cell_type": "markdown",
   "metadata": {},
   "source": [
    "<h3>What exactly is going on with these images?</h3>\n",
    "\n",
    "They are raw images captured by a camera sensor with a Bayer color filter placed ontop of the focal plane array. So even though we have been treating the images as grayscale, they actually have color information embedded within them that we have to extract.\n",
    "\n",
    "Here is a wikipedia page of the Bayer Filter:\n",
    "    https://en.wikipedia.org/wiki/Bayer_filter\n",
    "    \n",
    "Quick runthrough, what the Bayer pattern/filter is arranging 3 colors, green; red; blue,\n",
    "in a pattern to filter light which allows for the cameras to capture the colored images.\n",
    "The pattern contains 50% green, 25% red, and 25% blue. So what this channel filter function\n",
    "does is breaks an image into the separate filters created by the camera, and we can do\n",
    "analysis on each of these filters!\n",
    "\n",
    "Image of the pattern from Wikipedia:\n",
    "![image.png](attachment:image.png)\n",
    "\n"
   ]
  },
  {
   "attachments": {
    "image.png": {
     "image/png": "[encoded data removed]"
    }
   },
   "cell_type": "markdown",
   "metadata": {},
   "source": [
    "Image of the color channels broken down:\n",
    "![image.png](attachment:image.png)"
   ]
  },
  {
   "cell_type": "markdown",
   "metadata": {},
   "source": [
    "because these images are pretty big, you should crop them, and filter them to their rgb values, using the code you wrote in your image_editor.\n",
    "\n"
   ]
  },
  {
   "cell_type": "markdown",
   "metadata": {},
   "source": [
    "## <span style=\"color:red\">Coding Task: </span>\n",
    "\n",
    "You will write code to crop images and extract color channels from the raw bayer images provided in the dataset. You will implement the following functions in function in *src/image_editor.py*\n",
    "- crop()\n",
    "- channel_filter()"
   ]
  },
  {
   "cell_type": "code",
   "execution_count": null,
   "metadata": {},
   "outputs": [],
   "source": [
    "x0 = 100\n",
    "x1 = 500\n",
    "y0 = 100\n",
    "y1 = 700\n",
    "\n",
    "imgs_crop = ie.crop(imgs, x0,x1,y0,y1)\n",
    "dark_crop = ie.crop(dark,x0,x1,y0,y1)\n",
    "\n",
    "\n",
    "print(dark_crop.shape) # should be (400, 600, 200, 6)\n",
    "print(imgs_crop.shape) # should be (400, 600, 200, 6)\n",
    "\n",
    "\n",
    "# Extracts the RGB channels from the monochromatic image\n",
    "\n",
    "dark = ie.channel_filter(dark_crop)\n",
    "imgs = ie.channel_filter(imgs_crop)\n",
    "\n",
    "\n",
    "print(dark.shape) # should be (200, 300, 3, 200, 6)\n",
    "print(imgs.shape) # should be (200, 300, 3, 200, 6)\n",
    "\n",
    "print(dark.dtype)\n",
    "print(imgs.dtype)"
   ]
  },
  {
   "cell_type": "markdown",
   "metadata": {},
   "source": [
    "## <span style=\"color:red\">Coding Task: Viualize the channels</span>"
   ]
  },
  {
   "cell_type": "markdown",
   "metadata": {},
   "source": [
    "Let's visualize the cropping and the different channels. Note that the images of each color channel are fairly noisy looking."
   ]
  },
  {
   "cell_type": "code",
   "execution_count": null,
   "metadata": {},
   "outputs": [],
   "source": [
    "imgs[:,:,:,:,:].shape"
   ]
  },
  {
   "cell_type": "code",
   "execution_count": null,
   "metadata": {},
   "outputs": [],
   "source": [
    "fig = plt.figure(figsize = (20,11))\n",
    "\n",
    "idx = 0\n",
    "plots.plot_rgb_channel(imgs[:,:,:,0,idx],sensitivity[idx])\n",
    "plt.tight_layout()\n",
    "\n",
    "save_fig_as_png(\"color_chanels_\" + str(sensitivity[idx]))\n",
    "\n",
    "fig = plt.figure(figsize = (20,11))\n",
    "\n",
    "idx = 5\n",
    "plots.plot_rgb_channel(imgs[:,:,:,0,idx],sensitivity[idx])\n",
    "\n",
    "save_fig_as_png(\"color_chanels_\" + str(sensitivity[idx]))\n",
    "\n",
    "    \n",
    "plt.tight_layout()"
   ]
  },
  {
   "cell_type": "markdown",
   "metadata": {},
   "source": [
    "## <span style=\"color:red\">Coding Task: Plot Histograms</span>"
   ]
  },
  {
   "cell_type": "markdown",
   "metadata": {},
   "source": [
    "Lets also look at the histograms for each of the color channels. "
   ]
  },
  {
   "cell_type": "code",
   "execution_count": null,
   "metadata": {},
   "outputs": [],
   "source": [
    "imgs.shape"
   ]
  },
  {
   "cell_type": "code",
   "execution_count": null,
   "metadata": {},
   "outputs": [],
   "source": [
    "for k in range(6):\n",
    "    plt.figure(figsize=(15,2.5))\n",
    "\n",
    "    plots.plot_histograms_channels(imgs[:,:,:,0,k],sensitivity[k])\n",
    "    \n",
    "    plt.tight_layout()\n",
    "    \n",
    "    save_fig_as_png(\"color_channels_histogram\" + str(sensitivity[k]))"
   ]
  },
  {
   "cell_type": "markdown",
   "metadata": {},
   "source": [
    "# <span style=\"color:orange\">*Problem 2*: Histogram plotting</span>"
   ]
  },
  {
   "cell_type": "markdown",
   "metadata": {},
   "source": [
    "Now that we have our cropped and filtered data, we want to learn more about the statistics of our signal (i.e. image series).\n",
    "<br>\n",
    "\n",
    "A good way to understand more about images and signals is using histograms for visualization. So what do we have ? We have an image sequence of 200 images each of the same object/target. What we should see is really exactly the same in each image, right? But wait! No so easy. We should see the same but the effect of NOISE will be slightly different every time. In the following, we will characterize the variation in measured signals of the same scene, which will allow us to develop a general noise model for our camera."
   ]
  },
  {
   "cell_type": "markdown",
   "metadata": {},
   "source": [
    "## <span style=\"color:red\">Coding Task: </span>\n",
    "\n",
    "You will plot the estimates of the probability distribution function (PDF) of our data at several small local neihborhoods. Create a few histograms (these are for the different locations).  You will implement the following functions in *src/histogram.py*\n",
    "- plot_overlayed_hist(): plot histograms for a set of pixels in each sensitivity channel.\n",
    "- get_pixel_location(): generate a grid of pixel locations to create histograms for"
   ]
  },
  {
   "cell_type": "markdown",
   "metadata": {},
   "source": [
    "First let's just visualize the cropped images for the red color channel for all sensitivity (ISO) settings"
   ]
  },
  {
   "cell_type": "code",
   "execution_count": null,
   "metadata": {},
   "outputs": [],
   "source": [
    "color = 0; # red channel\n",
    "image_number = 0; # the image number in the sequence of 200 captures\n",
    "\n",
    "plt.figure(figsize=(15,6))\n",
    "plt.suptitle(\"Example images for different Sensitivity settings\",fontsize=20,y=1.05)\n",
    "for k in range(6):\n",
    "    plt.subplot(2,3,k+1)\n",
    "    plt.title(\"Sensitivity Lvl \" + str(sensitivity[k]))\n",
    "    plots.plot_with_colorbar(imgs[:,:,image_number,color,k],vmax=255) # set the same maximum of 255 on the colomap\n",
    "plt.tight_layout()\n",
    "\n",
    "save_fig_as_png(\"red_channel_images\")"
   ]
  },
  {
   "cell_type": "markdown",
   "metadata": {},
   "source": [
    "The intensity in each color channel is changing very slowly from left to right. So if we look closely at a small window of pixels, the intensity should be almost constant. Lets look at a small region of 5x5 pixels in each of the images - note that we are allowing the maximum value in the colormap to be determined from the maximum value in each image.  "
   ]
  },
  {
   "cell_type": "code",
   "execution_count": null,
   "metadata": {},
   "outputs": [],
   "source": [
    "# Define a region where you want to crop\n",
    "x0 = 50\n",
    "x1 = 55\n",
    "y0 = 50\n",
    "y1 = 55\n",
    "cropped = ie.crop(imgs, x0,x1,y0,y1)\n",
    "\n",
    "plt.suptitle(\"Example images for different Sensitivity settings\",fontsize=20,y=1.05)\n",
    "for k in range(6):\n",
    "    plt.subplot(2,3,k+1)\n",
    "    plt.title(\"Sensitivity Lvl \" + str(sensitivity[k]))\n",
    "    plots.plot_with_colorbar(cropped[:,:,image_number,color,k]) # allow the colormap maximum to be determined automatically\n",
    "plt.tight_layout()"
   ]
  },
  {
   "cell_type": "markdown",
   "metadata": {},
   "source": [
    "## <span style=\"color:red\">Coding Task: Calculate sampling locations</span>"
   ]
  },
  {
   "cell_type": "markdown",
   "metadata": {},
   "source": [
    "Now we will use the function you implemented to generate a set of pixel locations and overlay them on an example color channel "
   ]
  },
  {
   "cell_type": "code",
   "execution_count": null,
   "metadata": {},
   "outputs": [],
   "source": [
    "import src.histogram as hg\n",
    "\n",
    "\n",
    "N_x = 6\n",
    "N_y = 2\n",
    "[X,Y] = hg.get_pixel_location(imgs.shape, N_x,N_y)\n",
    "\n",
    "print(X.shape) # N_x = 6, N_y = 2 this should be (6, 2)\n",
    "print(X)\n",
    "      \n",
    "plt.imshow(imgs[:,:,0,0,0]);\n",
    "plt.scatter(X,Y);"
   ]
  },
  {
   "cell_type": "markdown",
   "metadata": {},
   "source": [
    "Now let's grab the pixel data and use your *plot_overlayed_hist()* function to generate histograms for each of these pixels"
   ]
  },
  {
   "cell_type": "code",
   "execution_count": null,
   "metadata": {},
   "outputs": [],
   "source": [
    "# Test ist out for one image series\n",
    "ix = 3\n",
    "iy = 1\n",
    "plt.figure(figsize=(10,5))\n",
    "hg.plot_overlayed_hist(imgs,(X[ix,iy],Y[ix,iy]),sensitivity,(5,5))\n",
    "\n",
    "# Once this works as expected you can plot it now for each point in your image"
   ]
  },
  {
   "cell_type": "code",
   "execution_count": null,
   "metadata": {},
   "outputs": [],
   "source": [
    "# Now we calculate the histograms for each pixel location\n",
    "\n",
    "plt.figure(figsize=(15,10))\n",
    "idx = 0\n",
    "for iy in range(N_y):\n",
    "    for ix in range(N_x):\n",
    "        idx = idx + 1\n",
    "        plt.subplot(4,3,idx)\n",
    "        hg.plot_overlayed_hist(imgs,(X[ix,iy],Y[ix,iy]),sensitivity,(5,5))\n",
    "        plt.title(\"x = \" + str(X[ix,iy]) + \" | y = \" + str(Y[ix,iy]))\n",
    "plt.tight_layout()\n",
    "\n",
    "save_fig_as_png(\"histogram_different_positions\")"
   ]
  },
  {
   "cell_type": "markdown",
   "metadata": {},
   "source": [
    "# <span style=\"color:orange\">*Problem 3*: Noise statistic analysis</span>\n",
    "\n",
    "Now we are going to estimate first order statistics of the random noise in the images we are capturing. Specifically, we denote the image intensity of the pixel located at $(x,y)$ from the $j^{th}$ captured photograph taken with the $i^{th}$ sensitivity setting as $I(x,y)_i^j$. \n",
    "\n",
    "You will compute the mean $\\mu_i(x,y)$ and variance $\\sigma_i(x,y)$ for each pixel - for each of the six different sensitivity settings that were captured. \n",
    "\n",
    "Use the following equations (1) and (2) to compute these statistics. You will visualize the mean and variance images and use this to better understand the noise properties of the sensor.\n",
    "\n",
    "\n",
    "Mean:\n",
    "\n",
    "$$\n",
    "\\mu_i(x,y) = \\frac{1}{N}\\sum_{j=1}^{N} I_i^j(x,y) \\tag{1}\n",
    "$$\n",
    "\n",
    "Variance:\n",
    "\n",
    "$$\n",
    "\\sigma_i^2(x,y) = \\frac{1}{N-1}\\sum_{j=1}^{N} \\big(I_i^j(x,y) - \\mu_i(x,y)\\big)^2 \\tag{2}\n",
    "$$"
   ]
  },
  {
   "cell_type": "markdown",
   "metadata": {},
   "source": [
    "## <span style=\"color:red\">Coding Task: </span>\n",
    "\n",
    "You will compute the mean and variance images for each color channel in the dataset, and each of the different camera sensitivity setttings.  You will implement the following functions in function in *src/metrics.py* and *src/plot.py*\n",
    "- calc_mean()\n",
    "- calc_var() \n",
    "- plot_images() \n",
    "- plot_relations()"
   ]
  },
  {
   "cell_type": "code",
   "execution_count": null,
   "metadata": {},
   "outputs": [],
   "source": [
    "import src.metrics as metrics\n",
    "\n",
    "img_mean = metrics.calc_mean(imgs)\n",
    "img_var = metrics.calc_var(imgs)\n",
    "\n",
    "dark_mean = metrics.calc_mean(dark)\n",
    "dark_var = metrics.calc_var(dark)"
   ]
  },
  {
   "cell_type": "code",
   "execution_count": null,
   "metadata": {},
   "outputs": [],
   "source": [
    "print(img_mean.shape) # Should be (200, 300, 3, 6)\n",
    "print(img_var.shape) # Should be (200, 300, 3, 6)\n",
    "print(img_mean.dtype) # Should be float64\n",
    "print(img_var.dtype) # Should be float64"
   ]
  },
  {
   "cell_type": "markdown",
   "metadata": {},
   "source": [
    "Now let's plot the mean and variance for our dataset - first let's look at the intensity gradient "
   ]
  },
  {
   "cell_type": "code",
   "execution_count": null,
   "metadata": {},
   "outputs": [],
   "source": [
    "plots.plot_images(img_mean,sensitivity, \"Mean\",0)\n",
    "\n",
    "save_fig_as_png(\"mean_images_red\")"
   ]
  },
  {
   "cell_type": "markdown",
   "metadata": {},
   "source": [
    "Now let's look at the variance/stddev of the intensity gradient.\n",
    "\n",
    "### Note: ### \n",
    "You will likely notice some vertical banding artifacts in these images. If you do notice this, it is not a bug in your code, but rather it is a bug in some of the captured data - the lighting was not entirely constant for all the captures made, which introduced a slight amount of variance in captured images that is not related to noise. You can ignore this artifact as it will not affect your results significantly. "
   ]
  },
  {
   "cell_type": "code",
   "execution_count": null,
   "metadata": {},
   "outputs": [],
   "source": [
    "plots.plot_images(np.sqrt(img_var),sensitivity, 'standard deviation',0)\n",
    "save_fig_as_png(\"standard_deviation_red\")\n",
    "plots.plot_images(np.sqrt(img_var),sensitivity, 'standard deviation',1)\n",
    "save_fig_as_png(\"standard_deviation_green\")\n",
    "plots.plot_images(np.sqrt(img_var),sensitivity, 'standard deviation',2)\n",
    "save_fig_as_png(\"standard_deviation_blue\")"
   ]
  },
  {
   "cell_type": "markdown",
   "metadata": {},
   "source": [
    "Now lets visualize mean and variance images for the dark/black scene"
   ]
  },
  {
   "cell_type": "code",
   "execution_count": null,
   "metadata": {},
   "outputs": [],
   "source": [
    "plots.plot_images(np.sqrt(dark_var),sensitivity, 'standard deviation',0)\n",
    "save_fig_as_png(\"standard_deviation_dark_red\")\n",
    "plots.plot_images(np.sqrt(dark_var),sensitivity, 'standard deviation',1)\n",
    "save_fig_as_png(\"standard_deviation_dark_green\")\n",
    "plots.plot_images(np.sqrt(dark_var),sensitivity, 'standard deviation',2)\n",
    "save_fig_as_png(\"standard_deviation_dark_blue\")"
   ]
  },
  {
   "cell_type": "markdown",
   "metadata": {},
   "source": [
    "# <span style=\"color:orange\">*Problem 4:* Plot relation between mean and variances</span>\n",
    "\n",
    "Now that we have computed the mean and variance of each pixel in captured images, we are going to use these statistics to fit a noise model to the camera sensor that was used to capture the data (see image at the top of this notebook). Specifically, we are going to analyze the relation between the scene brightness, measured in terms of a time-independent photon flux $\\phi(x,y)$, which is measured in units of photo-generated electrons per unit time $[e^- / s]$.\n",
    "\n",
    "Given an exposure time of $t$ seconds, the total number of photons detected at each pixel is then just $\\phi(x,y) \\cdot t$. The conversion between the number of photons detected and the gray level (GL) readout of the sensor is determined by the camera gain $g$, with units in terms of $[GL/e^-]$. The camera gain is proportional to the camera sensitivity (ISO) setting and provides a direct conversion between detected photon counts and gray level intensity values in captured digital images. Using the term $n_i(x,y)$ to denote the noise at each pixel in the $i^{th}$ captured image, the intensity (measured in GL) of the captured digital images is then:\n",
    "\n",
    "$$\n",
    "I_i(x,y) = \\Phi(x,y) \\cdot t \\cdot g + n_i(x,y)\n",
    "$$\n",
    "\n",
    "Each individual image that we capture will have a different amount of noise $n_i(x,y)$ that is added, which corrupts the images captured. We assume that the noise is zero mean so that\n",
    "$$\n",
    "\\mathcal{E}[n_i(x,y)] = \\sum_{i=0}^N n_i(x,y) = 0,\n",
    "$$\n",
    "where $\\mathcal{E}[\\cdot]$ is the expectation operator. In this case, if we capture a sufficiently large number of images $I_i(x,y)$ and average them together, then the average/mean image $\\mu(x,y)$ will be:\n",
    "\n",
    "$$\n",
    "\\mu(x,y) \\equiv \\mathcal{E}[I(x,y)] = \\sum_{i=0}^N I_i(x,y)\n",
    "$$\n",
    "\n",
    "$$\n",
    "= \\Phi(x,y) \\cdot t \\cdot g + \\sum_{i=0}^N n_i(x,y)\n",
    "$$\n",
    "\n",
    "$$\n",
    "= \\Phi(x,y) \\cdot t \\cdot g\n",
    "$$\n",
    "\n",
    "We will use a noise model that takes into account Poisson distributed photon noise, in addition to scene-independent Gaussian read noise that is assumed to be identical at each pixel. Photon noise produces a variance\n",
    "$$\n",
    "\\sigma^2_{\\text{photon}} = \\phi \\cdot t\n",
    "$$\n",
    "equal to the number of photons detected (see Photon noise description: https://en.wikipedia.org/wiki/Shot_noise). However, this is the noise measured in units of photo-electrons $[e^-]$. The photon noise variance measured in terms of camera gray levels is:\n",
    "\n",
    "$$\n",
    "\\sigma^2_{\\text{photon}}(x,y) = \\Phi(x,y) \\cdot t \\cdot g^2\n",
    "$$\n",
    "\n",
    "$$\n",
    "= \\mu(x,y) \\cdot g\n",
    "$$\n",
    "\n",
    "where $\\mu(x,y)$ represents the total number of photons collected for an exposure time $t$.  \n",
    "\n",
    "We will consider two forms of read noise — $\\sigma^2_{\\text{read}}$, which is produced by \"dark\" electrons that are produced even in the absence of incident photons. The read noise is measured in $[e^-]$ and must be multiplied with gain to convert to gray level intensity. The ADC noise $\\sigma^2_{\\text{ADC}}$ is injected after digitization, and is given by the minimum gray level that the ADC can produce without noise. Each source of noise is independent, so the total noise variance is just the sum of individual variances, which measured in gray level intensity is then:\n",
    "\n",
    "$$\n",
    "\\tilde{\\sigma}^2(x,y) = \\mu(x,y) \\cdot g + \\sigma^2_{\\text{read}} \\cdot g^2 + \\sigma^2_{\\text{ADC}} \\tag{3}\n",
    "$$\n",
    "\n",
    "$$\n",
    "= \\mu(x,y) \\cdot g + \\delta \\tag{4}\n",
    "$$\n",
    "\n",
    "where we have grouped together signal-independent noise terms into a single variable for read noise\n",
    "$$\n",
    "\\delta = \\sigma^2_{\\text{read}} \\cdot g^2 + \\sigma^2_{\\text{ADC}}.\n",
    "$$  \n",
    "\n",
    "Eq. (4) establishes a linear relationship between the mean and variance in the gray level intensity measured at each pixel. In this problem, you will explore this linear relationship between mean and variance.\n"
   ]
  },
  {
   "cell_type": "markdown",
   "metadata": {},
   "source": [
    "## <span style=\"color:red\">Coding Task: </span>\n",
    "\n",
    "You will write code to produce scatter plots that visualize the linear relationship between the mean and variances of gray level pixel values in the captured images, let's plot the relationship between the two. Plot the variance as a function of the mean for each experiment. Before you do this, first round the mean values to the nearest integer. Then there will likely be several pixels that have the same mean value. Calculate the average variance for this mean value. You will implement the following functions in function in *src/metrics.py*\n",
    "- plot_relations()"
   ]
  },
  {
   "cell_type": "code",
   "execution_count": null,
   "metadata": {},
   "outputs": [],
   "source": [
    "# Let's print the data dimensions to not lose overview\n",
    "print(img_mean.shape)\n",
    "print(img_var.shape)"
   ]
  },
  {
   "cell_type": "markdown",
   "metadata": {},
   "source": [
    "Now lets plot the mean vs. variance relationship for the intensity gradient scene"
   ]
  },
  {
   "cell_type": "code",
   "execution_count": null,
   "metadata": {},
   "outputs": [],
   "source": [
    "# Define how many pixels should be skipped (otherwise it looks totally cluttered)\n",
    "skip_pixel = 25\n",
    "\n",
    "plt.figure(figsize = (15,4));\n",
    "plots.plot_relations(img_mean, img_var, skip_pixel, sensitivity, 0);\n",
    "save_fig_as_png(\"mean_vs_variance_red\")\n",
    "\n",
    "plt.figure(figsize = (15,4));\n",
    "plots.plot_relations(img_mean, img_var, skip_pixel, sensitivity, 1);\n",
    "save_fig_as_png(\"mean_vs_variance_blue\")\n",
    "\n",
    "plt.figure(figsize = (15,4));\n",
    "plots.plot_relations(img_mean, img_var, skip_pixel, sensitivity, 2);\n",
    "save_fig_as_png(\"mean_vs_variance_green\")\n"
   ]
  },
  {
   "cell_type": "markdown",
   "metadata": {},
   "source": [
    "# <span style=\"color:orange\">*Problem 5:* Polyfit for mean and variance</span>\n",
    "\n",
    "In Problem 4 above, you calculated a set of mean/variance tuples $\\langle \\tilde{\\sigma}^2(x,y), \\mu(x,y) \\rangle$ for each of the $(x,y) \\in [1,...,N]$ pixels in the image. In this problem, you will use these tuples to estimate the gain $g_j$ and total read noise $\\delta_j$ for each camera sensitivity setting. Each camera sensitivity that was used will correspond to a different gain setting $g$, and you will develop code to \"calibrate\" the camera gain from the sensitivity settings provided to you. Remember that once the camera gain is known, it is possible to convert directly between gray-level intensity values and photon counts. Each of the $j$ sensitivity settings provided in the dataset will produce a different linear relationship of the form:\n",
    "\n",
    "$$\n",
    "\\tilde{\\sigma}^2_{j}(x,y) = \\mu(x,y) \\cdot g_j + \\delta_j(x,y) \\tag{5}\n",
    "$$\n",
    "\n",
    "Note that the terms $\\tilde{\\sigma}_j^2$ (the variance you computed), $g_j$ (the gain), and $\\delta_{j}$ (total read noise) all depend on the sensitivity setting, but the average signal level at each pixel $\\mu(x,y)$ does not. You will now fit a line to estimate the camera gain $g_j$ and total read noise $\\delta_j$ parameters for Eq. (5), for each different camera sensitivity setting provided in the dataset. You will use these tuples to estimate the gain $g_j$ and read noise $\\tilde{\\sigma}_{j,\\text{read}}^2$ using Equation (5). To do this, you will solve the optimization problem:\n",
    "\n",
    "$$\n",
    "g^*_j, \\delta^*_j =\n",
    "\\operatorname*{argmin}_{g_j, \\delta_j}\n",
    "\\sum_{x=0}^{N-1} \\sum_{y=0}^{N-1}\n",
    "\\Big| \\tilde{\\sigma}^2_{j}(x,y) - \\mu(x,y) \\cdot g_j - \\delta_j(x,y) \\Big|^2\n",
    "$$\n",
    "\n",
    "## *Note: you do not need to write code to solve this optimization problem yourself — to fit a line, you should look into `numpy.polyfit`!*\n"
   ]
  },
  {
   "cell_type": "markdown",
   "metadata": {},
   "source": [
    "## <span style=\"color:red\">Coding Task: </span>\n",
    "\n",
    "You will write code to fit a line to the plotted data in the scatter plots from Problem 4. Note that from the mean vs variance plots we can see that some of our data with large mean value is overexposed, especially for the images with a high sensitivity setting. In this case, the mean vs variance relationship is not linear because the measured intensity is clamped to a maximum value, hence we have to disregard those points when doing the linear fit. You will implement the following functions in function in *src/metrics.py* and *src/plot.py*\n",
    "- fit_linear_polynom_to_variance_mean()\n",
    "- plot_mean_variance_with_linear_fit()\n",
    "- plot_linear_fits()"
   ]
  },
  {
   "cell_type": "markdown",
   "metadata": {},
   "source": [
    "First let's fit a line to the intensity gradient scene for each different sensitivity setting in the dataset. It will be up to you to find a good threshold for cutting of the data. As a hint, look at the plots from Problem 4 above and see where the range is linear."
   ]
  },
  {
   "cell_type": "code",
   "execution_count": null,
   "metadata": {},
   "outputs": [],
   "source": [
    "gain,delta = metrics.fit_linear_polynom_to_variance_mean(img_mean,img_var,th=250)\n",
    "print(gain.shape) # Should be (3x6)\n",
    "print(delta.shape) # Should be (3x6)\n"
   ]
  },
  {
   "cell_type": "markdown",
   "metadata": {},
   "source": [
    "We now have computed estimates for the camera gain and read noise $(g^*_j, \\delta^*_j)$ for each of the three color channels, and the six different sensitivity settings. After fitting the linear models to our data we want to visualize the linear fit to make sure that everything worked nice and correct"
   ]
  },
  {
   "cell_type": "code",
   "execution_count": null,
   "metadata": {},
   "outputs": [],
   "source": [
    "plt.figure(figsize = (15,4))\n",
    "plots.plot_mean_variance_with_linear_fit(gain,delta,img_mean,img_var,skip_points=50,color_channel=0)\n",
    "\n",
    "save_fig_as_png(\"linear_fits_mean_variance_red\")"
   ]
  },
  {
   "cell_type": "markdown",
   "metadata": {},
   "source": [
    "# <span style=\"color:orange\">*Problem 6:* Find the dark noise and ADC noise variance from the fitted read noise </span>\n",
    "\n",
    "In Problem 5, we fit the gain $g_j$ and total read noise $\\sigma_{j,\\text{read}}^2$ using the linear noise model: \n",
    "\n",
    "$$\n",
    "\\tilde{\\sigma}^2_{j}(x,y) = \\mu(x,y) \\cdot g_j + \\delta_j \\tag{5}\n",
    "$$\n",
    "\n",
    "But note that for the dark image dataset, there is no signal so that $\\mu(x,y)=0$ and $\\tilde{\\sigma}^2_{j}(x,y) = \\delta_j$, which is to say that we measure the read noise variance directly. Also, recall here that the total signal-independent noise $\\delta_j$ consisted of both the gain-dependent read noise $\\sigma^2_{\\text{read}}$ and the gain-independent ADC noise $\\sigma^2_{\\text{ADC}}$:\n",
    "\n",
    "$$\n",
    "\\delta_j = \\sigma_{\\text{read}}^2 \\cdot g_j^2 + \\sigma_{\\text{ADC}}^2 \\tag{6}\n",
    "$$\n",
    "\n",
    "The line fitting procedure from Problem 5 allowed us to estimate the camera gain $g_j$ and total read noise $\\delta_j$ directly from the mean and variance of captured gray-level intensity images — for each sensitivity setting. Up until now, we have treated each sensitivity setting within the image dataset independently. We will now use the estimates $\\langle g_j, \\delta_j \\rangle$ computed in Problem 5 <span style=\"color:red\">*for each different sensitivity setting of the dark images*</span> to estimate the relationship between read noise and camera gain. To do this, we will solve an optimization problem of the form:\n",
    "\n",
    "$$\n",
    "\\sigma_{\\text{read}}^{(*)2}, \\; \\sigma_{\\text{ADC}}^{(*)2} =\n",
    "\\operatorname*{argmin}_{\\sigma_{\\text{read}}^{2}, \\; \\sigma_{\\text{ADC}}^{2}}\n",
    "\\sum_{j=0}^{6} \\Big| \\delta_j - \\sigma_{\\text{read}}^2 \\cdot g_j^2 - \\sigma_{\\text{ADC}}^2 \\Big|^2\n",
    "$$\n",
    "\n",
    "## *Note: you do not need to write code to solve this optimization problem yourself — to fit a line, you should look into `numpy.polyfit`!*\n"
   ]
  },
  {
   "cell_type": "markdown",
   "metadata": {},
   "source": [
    "## <span style=\"color:red\">Coding Task: </span>\n",
    "\n",
    "You will write code to estimate the dependence between the amount of read noise in the image, and the camera gain setting. You will implement the following functions in function in *src/metrics.py* and *src/plot.py*\n",
    "- fit_linear_polynom_to_read_noise()\n",
    "- plot_read_noise_fit()"
   ]
  },
  {
   "cell_type": "markdown",
   "metadata": {},
   "source": [
    "First let's plot the estimated variance of the dark images against the estimated gain to make sure the relationship looks lineardark_var.shape\n",
    " "
   ]
  },
  {
   "cell_type": "code",
   "execution_count": null,
   "metadata": {},
   "outputs": [],
   "source": [
    "dark_var.shape"
   ]
  },
  {
   "cell_type": "markdown",
   "metadata": {},
   "source": [
    "first lets fit the read noise parameters $\\sigma^2_{read}$ and $\\sigma^2_{ADC}$"
   ]
  },
  {
   "cell_type": "code",
   "execution_count": null,
   "metadata": {},
   "outputs": [],
   "source": [
    "sigma_read,sigma_ADC = metrics.fit_linear_polynom_to_read_noise(delta,gain)\n",
    "print(sigma_read) # Should be (, 3)\n",
    "print(sigma_ADC) # Should be (, 3)"
   ]
  },
  {
   "cell_type": "markdown",
   "metadata": {},
   "source": [
    "Then lets plotted the fitted values against the data used to fit"
   ]
  },
  {
   "cell_type": "code",
   "execution_count": null,
   "metadata": {},
   "outputs": [],
   "source": [
    "plt.figure()\n",
    "plots.plot_read_noise_fit(sigma_read,sigma_ADC,gain,delta,color_channel=0)\n",
    "\n",
    "save_fig_as_png(\"Gain_vs_read_noise_red\")"
   ]
  },
  {
   "cell_type": "markdown",
   "metadata": {},
   "source": [
    "# <span style=\"color:orange\">*Problem 7*: Finding the SNR </span>\n",
    "\n",
    "You will now analyze the Signal-to-Noise Ratio (SNR) of captured images. The SNR is a measure of the quality of captured images. It is usually defined as the ratio of signal mean to its standard deviation:\n",
    "\n",
    "$$\n",
    "SNR = \\frac{\\mu}{\\sigma} \\tag{7}\n",
    "$$\n",
    "\n",
    "In this problem you will calculate and plot the SNR as a function of mean pixel value for different camera sensitivity / gain settings. This will allow you to determine the Full-Well Capacity $\\Delta_{FWC}$ of the pixels, which is the maximum number of photons that can be detected before the pixel saturates. The FWC is simply given by:\n",
    "\n",
    "$$\n",
    "\\Delta_{FWC} = SNR^2\n",
    "$$\n",
    "\n",
    "You can read up a bit on full well capacity at these links:\n",
    "- https://clarkvision.com/articles/digital.sensor.performance.summary/#full_well  \n",
    "- https://www.stemmer-imaging.com/en/knowledge-base/pixel-size-and-well-capacity/\n"
   ]
  },
  {
   "cell_type": "markdown",
   "metadata": {},
   "source": [
    "## <span style=\"color:red\">Coding Task: </span>\n",
    "\n",
    "You will write code to compute the SNR of images captured with different camera sensitivity / gain settings. You will implement the following function in *src/metrics.py*\n",
    "- fit_linear_polynom_to_read_noise()"
   ]
  },
  {
   "cell_type": "markdown",
   "metadata": {},
   "source": [
    "Let's compute the SNR for each of the different gain settings"
   ]
  },
  {
   "cell_type": "code",
   "execution_count": null,
   "metadata": {},
   "outputs": [],
   "source": [
    "color_channel = 0;\n",
    "SNR = np.empty((255,6))\n",
    "for k in range(6):\n",
    "    SNR[:,k] = metrics.calc_SNR_for_specific_gain(img_mean[:,:,color_channel,k],img_var[:,:,color_channel,k])"
   ]
  },
  {
   "cell_type": "code",
   "execution_count": null,
   "metadata": {},
   "outputs": [],
   "source": [
    "print(SNR.shape) # should be (255, 6)"
   ]
  },
  {
   "cell_type": "markdown",
   "metadata": {},
   "source": [
    "Now plot the SNR vs. mean intensity for the different gain settings"
   ]
  },
  {
   "cell_type": "code",
   "execution_count": null,
   "metadata": {},
   "outputs": [],
   "source": [
    "binned_means = np.arange(0,255)\n",
    "print(binned_means.shape)\n",
    "\n",
    "plt.grid()\n",
    "for k in range(6):\n",
    "    plt.scatter(binned_means,SNR[:,k],label='Gain %0.3f' % (gain[color_channel,k]))\n",
    "    plt.grid()\n",
    "    plt.xlabel(\"Mean pixel intensity\")\n",
    "    plt.ylabel(\"SNR\")\n",
    "    plt.legend(facecolor='white',frameon=True)\n",
    "    plt.title(\"SNR for different Gain settings\",fontsize=20)\n",
    "\n",
    "plt.ylim([0,60])\n",
    "\n",
    "save_fig_as_png(\"plot_snr_for_different_gain_settings\")"
   ]
  },
  {
   "cell_type": "markdown",
   "metadata": {},
   "source": [
    "# <span style=\"color:orange\">*Problem 8:* A complete sensor noise model</span>\n",
    "\n",
    "You now have estimated all the parameters for a complete noise model of your sensor. Given the parameters:\n",
    "\n",
    "$$\n",
    "\\langle \\sigma_{\\text{read}}^{(*)2}, \\; \\sigma_{\\text{ADC}}^{(*)2}, \\; g_j, \\; \\Delta_{FWC} \\rangle\n",
    "$$\n",
    " \n",
    "In this problem you will simulate noisy images using the noise parameters you estimated in Problems 1–6.\n"
   ]
  },
  {
   "cell_type": "markdown",
   "metadata": {},
   "source": [
    "## <span style=\"color:red\">Coding Task: </span>\n",
    "\n",
    "None - just run the notebook cells to run the simulate_noisy_images() function that we implemented   "
   ]
  },
  {
   "cell_type": "code",
   "execution_count": null,
   "metadata": {},
   "outputs": [],
   "source": [
    "\n",
    "fwc = 2500; # maximum number of photons that can be detected by a pixel - replace this with your estimate\n",
    "photons = img_mean[:,:,:,0] / gain[None, None, :, 0]; # just take the image from the first sensitivity setting - convert to photons \n",
    "\n",
    "# simulate the noisy images\n",
    "noisy_images = cam.simulate_noisy_images(photons,gain,sigma_read,sigma_ADC,fwc,num_ims=20)\n",
    "\n",
    "print(noisy_images.shape); # should be (200,300,3,20,6)"
   ]
  },
  {
   "cell_type": "markdown",
   "metadata": {},
   "source": [
    "Now let's compare a simulated noisy image to a captured image with the same sensitivity setting"
   ]
  },
  {
   "cell_type": "code",
   "execution_count": null,
   "metadata": {},
   "outputs": [],
   "source": [
    "fig = plt.figure(figsize = (20,11))\n",
    "sensitivity_ind = 0;\n",
    "image_number = 0;\n",
    "fig.suptitle(\"Sensitivity = 0\",fontsize=20)\n",
    "color = ['red', 'green', 'blue']\n",
    "\n",
    "for i in range(noisy_images.shape[2]):\n",
    "    plt.subplot(2, 3, i+1)\n",
    "    plt.title(color[i] + \" (simulated)\",fontsize=20)\n",
    "    plots.plot_with_colorbar(noisy_images[:,:,i,image_number,sensitivity_ind])\n",
    "    plt.subplot(2, 3, i+4)\n",
    "    plt.title(color[i] + \" (captured)\",fontsize=20)\n",
    "    plots.plot_with_colorbar(imgs[:,:,i,image_number,sensitivity_ind])\n",
    "    \n",
    "plt.tight_layout()\n",
    "\n",
    "save_fig_as_png(\"simulated_images\")"
   ]
  },
  {
   "cell_type": "markdown",
   "metadata": {},
   "source": [
    "Finally, let's simulate some new images with our noisy model to get a feel what it will be like to capture new images"
   ]
  },
  {
   "cell_type": "code",
   "execution_count": null,
   "metadata": {},
   "outputs": [],
   "source": [
    "star_img = np.array(Image.open('pic/milkyway.png')) # read in image and convert to grayscale\n",
    "print(star_img.dtype); # should be uint8\n",
    "\n",
    "# view the red color channel image\n",
    "color_channel = 0;\n",
    "plt.figure()\n",
    "plt.imshow(star_img[:,:,color_channel], cmap= 'gray')\n",
    "\n",
    "# view a crop of the images\n",
    "x0 = 0; \n",
    "x1 = 100;\n",
    "y0 = 0;\n",
    "y1 = 100;\n",
    "plt.figure()\n",
    "plt.imshow(star_img[y0:y1,x0:x1,color_channel], cmap= 'gray')\n"
   ]
  },
  {
   "cell_type": "code",
   "execution_count": null,
   "metadata": {},
   "outputs": [],
   "source": [
    "# convert to photons - make the maximum number of photons equal to just a fraction of the full well capacity\n",
    "frac = 10; # you can play around with this number\n",
    "star_img_photons = star_img/255.0*fwc/frac"
   ]
  },
  {
   "cell_type": "code",
   "execution_count": null,
   "metadata": {},
   "outputs": [],
   "source": [
    "# astronomy images typically have much more read noise due to longer exposures\n",
    "new_sigma_read = 20*sigma_read;\n",
    "\n",
    "# simulate the noisy images and view\n",
    "noisy_star_ims = cam.simulate_noisy_images(star_img_photons,gain,new_sigma_read,sigma_ADC,fwc,num_ims=20)"
   ]
  },
  {
   "cell_type": "code",
   "execution_count": null,
   "metadata": {},
   "outputs": [],
   "source": [
    "print(noisy_star_ims.shape) # should be (456, 590, 3, 20, 6)\n",
    "\n",
    "image_number = 0;\n",
    "plots.plot_images(noisy_star_ims[:,:,:,image_number,:],sensitivity, \"Captured\",0)\n",
    "\n",
    "save_fig_as_png(\"astro_captured_images\")\n",
    "# crop the images and view to look closely at noise\n",
    "cropped_noisy_star_ims = ie.crop(noisy_star_ims, x0,x1,y0,y1)\n",
    "plots.plot_images(cropped_noisy_star_ims[:,:,:,image_number,:],sensitivity, \"Captured (cropped)\",0)\n",
    "\n",
    "save_fig_as_png(\"astro_captured_images_cropped\")"
   ]
  },
  {
   "cell_type": "code",
   "execution_count": null,
   "metadata": {},
   "outputs": [],
   "source": [
    "# calculate the mean images for the different sensitivity settings and plot the results\n",
    "noisy_star_ims_mean = metrics.calc_mean(noisy_star_ims)\n",
    "plots.plot_images(noisy_star_ims_mean,sensitivity, \"Mean\",0)\n",
    "\n",
    "save_fig_as_png(\"astro_captured_images_mean\")\n",
    "\n",
    "cropped_noisy_star_ims_mean = ie.crop(noisy_star_ims_mean, x0,x1,y0,y1)\n",
    "plots.plot_images(cropped_noisy_star_ims_mean,sensitivity, \"Mean (cropped)\",0)\n",
    "\n",
    "save_fig_as_png(\"astro_captured_images_mean_cropped\")\n"
   ]
  }
 ],
 "metadata": {
  "kernelspec": {
   "display_name": "Python 3",
   "language": "python",
   "name": "python3"
  },
  "language_info": {
   "codemirror_mode": {
    "name": "ipython",
    "version": 3
   },
   "file_extension": ".py",
   "mimetype": "text/x-python",
   "name": "python",
   "nbconvert_exporter": "python",
   "pygments_lexer": "ipython3",
   "version": "3.12.4"
  }
 },
 "nbformat": 4,
 "nbformat_minor": 4
}
